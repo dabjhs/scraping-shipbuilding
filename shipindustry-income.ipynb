{
 "cells": [
  {
   "cell_type": "code",
   "execution_count": 1,
   "id": "2e5c2f32",
   "metadata": {},
   "outputs": [],
   "source": [
    "from selenium import webdriver\n",
    "import requests\n",
    "from bs4 import BeautifulSoup\n",
    "import time\n",
    "import re\n",
    "from selenium.webdriver.common.keys import Keys\n",
    "from urllib.request import urlopen"
   ]
  },
  {
   "cell_type": "code",
   "execution_count": 2,
   "id": "15f5c225",
   "metadata": {},
   "outputs": [],
   "source": [
    "#selenium前準備\n",
    "path=\"見せられないヨ",
    "chrome = webdriver.Chrome(executable_path=path)"
   ]
  },
  {
   "cell_type": "code",
   "execution_count": 3,
   "id": "ea050ef7",
   "metadata": {},
   "outputs": [
    {
     "name": "stdout",
     "output_type": "stream",
     "text": [
      "[' IHI', ' 今治造船', ' 大島造船所', ' 尾道造船', ' 川崎重工業', ' 佐世保重工業', ' ジャパン マリンユナイテッド', ' 新来島サノヤス造船', ' 新来島どっく', ' 新来島豊橋造船', ' 住友重機械工業', ' 常石造船', ' 内海造船', ' 名村造船所', ' 函館どつく', ' 三井E&Sホールディングス', ' 三菱重工業']\n"
     ]
    }
   ],
   "source": [
    "#造船会社を造船工業会でスクレイピング\n",
    "htmltext =urlopen(\"https://www.sajn.or.jp/membership\")\n",
    "soup= BeautifulSoup(htmltext, 'html.parser')\n",
    "org_list=[] #企業名を格納\n",
    "\n",
    "for n in range(100):\n",
    "    \n",
    "    try: #最後まで企業名を読み込んだら例外処理\n",
    "        org=soup.find('div', {'class':'list-group'}).find_all('a', {'class':'list-group-item'})[n].get_text().replace('株式会社', '')\n",
    "        org_list.append(org)\n",
    "    except IndexError as ie:\n",
    "        break\n",
    "        \n",
    "print(org_list)"
   ]
  },
  {
   "cell_type": "markdown",
   "id": "9e3c855c",
   "metadata": {},
   "source": [
    "# 以下はyahooファイナンス内をクローリング"
   ]
  },
  {
   "cell_type": "code",
   "execution_count": 4,
   "id": "e570d350",
   "metadata": {},
   "outputs": [
    {
     "name": "stdout",
     "output_type": "stream",
     "text": [
      " 今治造船は失敗\n",
      " 大島造船所は失敗\n",
      " 尾道造船は失敗\n",
      " 佐世保重工業は失敗\n",
      " 新来島サノヤス造船は失敗\n",
      " 新来島どっくは失敗\n",
      " 新来島豊橋造船は失敗\n",
      " 常石造船は失敗\n",
      " 函館どつくは失敗\n"
     ]
    }
   ],
   "source": [
    "#yahooファイナンスで造船会社を検索してurlを取得\n",
    "chrome.get('https://finance.yahoo.co.jp/')\n",
    "\n",
    "linklist=[]\n",
    "for keyword in org_list:\n",
    "    element = chrome.find_element_by_name(\"query\")\n",
    "    element.send_keys(keyword)\n",
    "    element.send_keys(Keys.RETURN)\n",
    "    chrome.find_element_by_name(\"query\").clear()\n",
    "    time.sleep(1)\n",
    "    \n",
    "    #urlを取得\n",
    "    htmltext1 = chrome.page_source.encode('utf-8')\n",
    "    try: #企業情報が一つもなかった場合例外処理\n",
    "        soup1= BeautifulSoup(htmltext1, 'html.parser')\n",
    "        get_url=soup1.find(\"li\",{\"class\":\"_239Zl3PI\"}).find('a').attrs['href']\n",
    "        linklist.append(get_url)\n",
    "    except AttributeError:\n",
    "        print(\"{}は失敗\".format(keyword))\n",
    "        \n",
    "#yahooで企業情報を検索するurl\n",
    "for linkadd in linklist:\n",
    "    url=linkadd+\"/profile\""
   ]
  },
  {
   "cell_type": "code",
   "execution_count": 5,
   "id": "b6655df9",
   "metadata": {},
   "outputs": [],
   "source": [
    "#urlで検索するメソッド\n",
    "def get_info(url):\n",
    "    html = urlopen(url) #BeautifulSoupで抽出\n",
    "    bs = BeautifulSoup(html, 'html.parser')\n",
    "    \n",
    "    #会社名\n",
    "    finder=bs.find(\"section\",{\"class\":\"_1zZriTjI _2l2sDX5w\"}).find(\"h1\",{\"class\":\"_6uDhA-ZV\"}).get_text()\n",
    "    #会社名\n",
    "    print(finder)\n",
    "\n",
    "    #平均年収\n",
    "    finder1=bs.find(\"tbody\").find_all(\"tr\")[15].find(\"td\",{\"class\":\"_1Y-2cHme\"})\n",
    "    get_income=finder1.get_text()\n",
    "    income=int(re.findall('[0-9]+',get_income.replace(\",\",\"\"))[0])*1000/10000\n",
    "    print(\"{}万円\".format(income))\n",
    "\n",
    "    #平均年齢\n",
    "    finder2=bs.find(\"tbody\").find_all(\"tr\")[14].find(\"td\",{\"class\":\"_1Y-2cHme\"})\n",
    "    get_age=finder2.get_text()\n",
    "    age=float(re.findall(\"\\d+\\.\\d+\",get_age)[0])\n",
    "    print(\"{}才\".format(age))"
   ]
  },
  {
   "cell_type": "code",
   "execution_count": 6,
   "id": "95ccca85",
   "metadata": {},
   "outputs": [
    {
     "name": "stdout",
     "output_type": "stream",
     "text": [
      "(株)ＩＨＩ\n",
      "736.0万円\n",
      "40.8才\n",
      "\n",
      "川崎重工業(株)\n",
      "683.0万円\n",
      "40.5才\n",
      "\n",
      "キヤノンマーケティングジャパン(株)\n",
      "866.0万円\n",
      "48.5才\n",
      "\n",
      "住友重機械工業(株)\n",
      "806.0万円\n",
      "43.4才\n",
      "\n",
      "内海造船(株)\n",
      "472.0万円\n",
      "39.3才\n",
      "\n",
      "(株)名村造船所\n",
      "510.0万円\n",
      "40.1才\n",
      "\n",
      "(株)三井Ｅ＆Ｓホールディングス\n",
      "805.0万円\n",
      "47.0才\n",
      "\n",
      "三菱重工業(株)\n",
      "863.0万円\n",
      "41.6才\n",
      "\n"
     ]
    }
   ],
   "source": [
    "#yahooで企業情報を検索するurl\n",
    "for linkadd in linklist:\n",
    "    url=linkadd+\"/profile\"\n",
    "    get_info(url)\n",
    "    time.sleep(1) #スクレイピング間隔\n",
    "    print()\n",
    "    \n",
    "chrome.quit()"
   ]
  }
 ],
 "metadata": {
  "kernelspec": {
   "display_name": "Python 3 (ipykernel)",
   "language": "python",
   "name": "python3"
  },
  "language_info": {
   "codemirror_mode": {
    "name": "ipython",
    "version": 3
   },
   "file_extension": ".py",
   "mimetype": "text/x-python",
   "name": "python",
   "nbconvert_exporter": "python",
   "pygments_lexer": "ipython3",
   "version": "3.9.7"
  }
 },
 "nbformat": 4,
 "nbformat_minor": 5
}
