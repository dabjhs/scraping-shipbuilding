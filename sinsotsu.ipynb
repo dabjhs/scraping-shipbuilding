{
 "cells": [
  {
   "cell_type": "code",
   "execution_count": 1,
   "id": "14361926",
   "metadata": {},
   "outputs": [],
   "source": [
    "from selenium import webdriver\n",
    "import requests\n",
    "from bs4 import BeautifulSoup\n",
    "import time\n",
    "import re\n",
    "from selenium.webdriver.common.keys import Keys\n",
    "from urllib.request import urlopen\n",
    "import pprint\n",
    "import openpyxl\n",
    "import numpy as np\n",
    "import matplotlib.pyplot as plt\n",
    "from urllib.parse import urlparse\n",
    "import os"
   ]
  },
  {
   "cell_type": "code",
   "execution_count": 2,
   "id": "0b8af2cf",
   "metadata": {},
   "outputs": [],
   "source": [
    "#selenium前準備と各種path\n",
    "chromedriver_path=\"/Users/gakport/Desktop/developper/chromedriver\" #chromedriverのpath"
   ]
  },
  {
   "cell_type": "code",
   "execution_count": 3,
   "id": "4ea39625",
   "metadata": {},
   "outputs": [
    {
     "name": "stdout",
     "output_type": "stream",
     "text": [
      "https://www.sanoyas.skdy.co.jp\n",
      "株式会社新来島サノヤス造船｜(旧：サノヤス造船）\n"
     ]
    }
   ],
   "source": [
    "search_keyword = 'サノヤス造船'\n",
    "\n",
    "# Chromedriverを起動し、Googleのトップページを開く\n",
    "driver = webdriver.Chrome(chromedriver_path)\n",
    "driver.get('https://www.google.co.jp/')\n",
    "\n",
    "# 検索ボックスにキーワードを入力して検索実行\n",
    "search_box = driver.find_element_by_name('q')\n",
    "search_box.send_keys(search_keyword)\n",
    "search_box.send_keys(Keys.RETURN)\n",
    "\n",
    "html = driver.page_source.encode('utf-8')\n",
    "soup= BeautifulSoup(html, 'html.parser')\n",
    "\n",
    "\n",
    "boo=True\n",
    "i=0;\n",
    "while boo:\n",
    "    try:\n",
    "        elements=soup.find_all('h3', {'class':'LC20lb MBeuO DKV0Md'})[i]\n",
    "        title=elements.get_text()\n",
    "        url=elements.parent.attrs['href']\n",
    "        regex = re.compile(search_keyword)\n",
    "        if re.search(regex, title):\n",
    "            if re.search(r\"\\.co\\.jp\", url):\n",
    "                parsed_url = urlparse(url)\n",
    "                url = f\"{parsed_url.scheme}://{parsed_url.netloc}\"\n",
    "                print(url)\n",
    "                print(title)\n",
    "                break\n",
    "    except IndexError as ie:\n",
    "        print(\"1ページ目ナシ\")\n",
    "        break\n",
    "    i=i+1"
   ]
  }
 ],
 "metadata": {
  "kernelspec": {
   "display_name": "Python 3 (ipykernel)",
   "language": "python",
   "name": "python3"
  },
  "language_info": {
   "codemirror_mode": {
    "name": "ipython",
    "version": 3
   },
   "file_extension": ".py",
   "mimetype": "text/x-python",
   "name": "python",
   "nbconvert_exporter": "python",
   "pygments_lexer": "ipython3",
   "version": "3.9.7"
  }
 },
 "nbformat": 4,
 "nbformat_minor": 5
}
